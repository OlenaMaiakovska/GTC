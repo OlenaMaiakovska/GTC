{
 "cells": [
  {
   "cell_type": "markdown",
   "metadata": {},
   "source": [
    "### HW3. Author Andrii Zadaianchuk"
   ]
  },
  {
   "cell_type": "code",
   "execution_count": 20,
   "metadata": {
    "collapsed": true
   },
   "outputs": [],
   "source": [
    "import numpy as np\n",
    "from __future__ import division\n",
    "from IPython.core.debugger import Tracer; "
   ]
  },
  {
   "cell_type": "code",
   "execution_count": 4,
   "metadata": {
    "collapsed": false
   },
   "outputs": [],
   "source": [
    "# Load data\n",
    "X_train=np.genfromtxt('./data/train.csv', delimiter=',')\n",
    "X_test=np.genfromtxt('./data/test.csv', delimiter=',')\n",
    "y_train=np.genfromtxt('./data/train_labels.txt', delimiter=',')\n",
    "y_test=np.genfromtxt('./data/test_labels.txt', delimiter=',')"
   ]
  },
  {
   "cell_type": "code",
   "execution_count": null,
   "metadata": {
    "collapsed": false
   },
   "outputs": [],
   "source": [
    "K=2  # number of topics\n",
    "J=50 # max number of word in doc\n",
    "\n",
    "alpha_pi=1000\n",
    "\n",
    "inds=[y_train==k for k in range(K)]\n",
    "pi=[(sum(ind)+alpha_pi)/(y_train.shape[0]+2*alpha_pi) for ind in inds]\n",
    "\n",
    "\n",
    "N=X_train.shape[1] # number of words\n",
    "alpha=1\n",
    "\n",
    "theta=np.zeros((N,K,J),dtype=float)\n",
    "\n",
    "for (j,k) in zip(range(J),range(K)):\n",
    "    X=X_train[inds[k]]\n",
    "    X_bin=X==j\n",
    "#     Tracer()()\n",
    "    theta[:,j,k]=((X_bin.sum(axis=0)+alpha)/(X.shape[0]+J*alpha))\n",
    "\n",
    "def clasify(x,theta,pi):\n",
    "    N=x.shape[0]\n",
    "    K=2\n",
    "    log_sum=[np.log(theta[range(N),k,x.astype(int)]).sum() for k in range(K)]\n",
    "    return np.argmax(log_sum)\n",
    "\n",
    "#accuracy\n",
    "acc_train=(np.apply_along_axis(lambda x: clasify(x,theta,pi),axis=1,arr=X_train)==y_train).sum()/y_train.shape[0] \n",
    "acc_test=(np.apply_along_axis(lambda x: clasify(x,theta,pi),axis=1,arr=X_test)==y_test).sum()/y_test.shape[0]\n",
    "\n",
    "print (acc_train,acc_test)"
   ]
  },
  {
   "cell_type": "code",
   "execution_count": null,
   "metadata": {
    "collapsed": true
   },
   "outputs": [],
   "source": []
  }
 ],
 "metadata": {
  "kernelspec": {
   "display_name": "Python [Root]",
   "language": "python",
   "name": "Python [Root]"
  },
  "language_info": {
   "codemirror_mode": {
    "name": "ipython",
    "version": 2
   },
   "file_extension": ".py",
   "mimetype": "text/x-python",
   "name": "python",
   "nbconvert_exporter": "python",
   "pygments_lexer": "ipython2",
   "version": "2.7.12"
  }
 },
 "nbformat": 4,
 "nbformat_minor": 0
}
