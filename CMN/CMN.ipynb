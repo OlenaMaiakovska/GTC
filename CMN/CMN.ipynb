{
 "cells": [
  {
   "cell_type": "markdown",
   "metadata": {},
   "source": [
    "### Lecture 1"
   ]
  },
  {
   "cell_type": "markdown",
   "metadata": {
    "collapsed": true
   },
   "source": [
    "### Lecture 8. Glia "
   ]
  },
  {
   "cell_type": "markdown",
   "metadata": {},
   "source": [
    "Mircoglia - from mesemchymal cells, travel from blood and became mircoglia "
   ]
  },
  {
   "cell_type": "markdown",
   "metadata": {},
   "source": [
    "Astrocytes - \n",
    "\n",
    "apoltosis (delete neurons that are not needed in the development)\n",
    "\n",
    "supply energy \n",
    "\n",
    "modulation of synaptic transmission \n",
    "\n",
    "homeostasis - take care of balance of differt ions, whater, pH"
   ]
  },
  {
   "cell_type": "markdown",
   "metadata": {},
   "source": [
    "Depending of contact site :\n",
    " - neighboring astrocytes \n",
    " - pia\n",
    " - blood \n",
    " - synapses \n",
    " \n",
    "They express different things: \n",
    " - "
   ]
  }
 ],
 "metadata": {
  "kernelspec": {
   "display_name": "Python [Root]",
   "language": "python",
   "name": "Python [Root]"
  },
  "language_info": {
   "codemirror_mode": {
    "name": "ipython",
    "version": 2
   },
   "file_extension": ".py",
   "mimetype": "text/x-python",
   "name": "python",
   "nbconvert_exporter": "python",
   "pygments_lexer": "ipython2",
   "version": "2.7.12"
  }
 },
 "nbformat": 4,
 "nbformat_minor": 0
}
