{
 "cells": [
  {
   "cell_type": "markdown",
   "metadata": {},
   "source": [
    "* [Lecture 1. Bioelectricity](#l1)\n",
    "    * [Part 1. Membrane voltage](#l1p1)\n",
    "    * [Part 2. H-H Model](#l1p2)\n",
    "    \n",
    "* [Lecture 2](#l2)\n",
    "\n",
    "* [Lecture 3. Channels and Pharmacology](#l3)\n",
    "    * [Part 1. Conductance measurements](#l3p1)\n",
    "    * [Part 2. Pharmacology](#l3p2)\n",
    "* [Lecture 5. Imaging](#l5)\n",
    "    * [Part 1. Fluorescence](#l5p1)\n",
    "    * [Part 2. FRED](#l5p2)\n",
    "    * [Part 3. Fluophors](#l5p3)\n",
    "* [Lecture 6. Light/fluorescence microscopy](#l6)\n",
    "    * [Part 1. Confocal fluorescent microscopy](#l6p1)\n",
    "    * [Part 2. Two-photon fluorescent microscopy](#l6p2)\n",
    "    * [Part 3. Super-Resolution Microscopy](#l5p3)\n",
    "* [Lecture 7. Electro microscopy with application example](#l7)\n",
    "    * [Part 1. Discription of EM](#l7p1)\n",
    "    * [Part 2. Case study. Undestanding of movement directional ganglian cells](#l7p2)\n"
   ]
  },
  {
   "cell_type": "markdown",
   "metadata": {},
   "source": [
    "### Lecture 1. Bioelectricity\n",
    "\n"
   ]
  },
  {
   "cell_type": "markdown",
   "metadata": {},
   "source": [
    "<a id='l1p1'></a>\n",
    "#### Part 1. Membrane voltage\n",
    "* Nernst-Plank Equation (ND, NP)\n",
    "* Nernst potential \n",
    "* Goldman-Hodgkin-Katz equation \n",
    "* Parallel conductance model as linear aproximation of G-H-V model"
   ]
  },
  {
   "cell_type": "markdown",
   "metadata": {},
   "source": [
    "<a id='l1p2'></a>\n",
    "#### Part 2. H-H Model \n",
    "1. Voltage-Clamp Experiment on squid axon\n",
    "    * Describe the H-H equipment \n",
    "    * The voltage clamp allows: \n",
    "        1. Study of voltage dependent ion conductances, such as Na$^+$, K$^+$ ion conductances. $I=(E_m(t)-V)g_{channel}(t)$\n",
    "        2. Sinaptic transmition (via looking on condactances of ligand gated ion channels)\n",
    "        3. Single ion channel via looking on constant condactances of single ion : $I=(E_m-V)g_{channel}$\n",
    "    * Why do we use silverchlorid electrodes?\n",
    "       **Because it is well-defined current source and reference (?)**\n",
    "2. Model of ion conductances\n",
    "3. Comparison with AP in current clamp "
   ]
  },
  {
   "cell_type": "markdown",
   "metadata": {
    "collapsed": true
   },
   "source": [
    "### Lecture 2. "
   ]
  },
  {
   "cell_type": "markdown",
   "metadata": {},
   "source": [
    "<a id='l3'></a>\n",
    "### Lecture 3. Channels and Pharmacology\n",
    "\n",
    "How to identify receptors and channels in particular neuron? \n",
    "\n",
    "**Standard method**: single cell electrophysiology (voltage-clamp, conductance analysis) in\n",
    "combination with pharmacological agents. \n",
    "\n",
    "**Issues**:\n",
    "- space clamp related issues in cells with complex morphologies\n",
    "- most pharmacological agents are not very selective; nearly all have (dose-dependent)\n",
    "side-effects\n",
    "\n",
    "**Solution**\n",
    "- **What are possible solutions to space clamp related issues? **\n",
    "- genetically-encoded agents"
   ]
  },
  {
   "cell_type": "markdown",
   "metadata": {},
   "source": [
    "<a id='l3p1'></a>\n",
    "#### Part 1. Conductance measurements \n",
    "\n",
    "* Voltage clamp \n",
    "* Analysis of the membrane conductance during motion along the preferred-null axis of a retinal direction selective ganglion cell [Lecture 7]\n",
    "\n",
    "[Diverse Synaptic Mechanisms Generate Direction Selectivity in the Rabbit Retina](http://www.jneurosci.org/content/22/17/7712.long)\n",
    " * Explain this graphs \n",
    "<img  src=\"l3g1.png\"/>\n",
    "\n",
    "> Analysis of the membrane conductance during motion along the preferred–null axis for a single stimulus. Blue data represent preferred direction;red data represent null direction. \n",
    " * **A,B** Synaptic currents elicited by a bright bar moving in the preferred and null directions at a series of holding potentials starting at $−100 mV$ and incrementing by $15 mV$ to $+20 mV$. The broken vertical lines delineate the start of the leading- and trailing-edge responses. Because the stimulus bar was brighter than the background, the leading-edge response is an on-response, and the trailing-edge response is an off-response. The symbols above the records show the time points for measuring the current–voltage relations shown in **E**. The solid lines show examples of linear fits used to determine the synaptic reversal potential $V_r$ and the synaptic conductance $g_T$ . \n",
    " * **C, D** $I–V$ relations were measured at 10 msec intervals to plot out the time dependence of these parameters.\n",
    " * **F**  $V_r$ in another cell showing the relative timing of extracellular action potentials during preferred-direction motion and recorded before applying the patch-clamp electrode. \n",
    " * **G, H** $V_r$ and $g_T$ recorded during negative-contrast stimuli showed characteristics similar to those for positive contrasts.\n",
    "\n",
    "* Space-clump issues \n",
    " * Ideal space clamp: $V_m=V_{COM}$. So the membrane potential is the same as command potential that we applied to the electrode. \n",
    " * But in reality (for neuron with complex morphologies) $V_m$ depends on many factors such as synaptic inputs or local morphology. \n",
    "\n",
    "[Imperfect Space Clamp Permits Electrotonic Interactions between Inhibitory and Excitatory Synaptic Conductances, Distorting Voltage Clamp Recordings](http://journals.plos.org/plosone/article?id=10.1371/journal.pone.0019463)"
   ]
  },
  {
   "cell_type": "markdown",
   "metadata": {},
   "source": [
    "<a id='l3p2'></a>\n",
    "#### Part 2. Pharmacology \n",
    "\n",
    "* Antagonist - block channel, agonist - open channel\n",
    "  * $TTX$ - block $Na^+$ voltage-gated channels **(at nanomolar concentrations; only when applied from\n",
    "the outside of the channel)**  \n",
    "  * Conotoxins - block $Na^+, K^+, Cl^-$ voltage-gated channels, various receptors (e.g. glutamate,\n",
    "serotonin) and transporters\n",
    "\n",
    "* Genetically-encoded agents (Tethered toxins)\n",
    "  * Tethered toxins - bound to the cell surface by membrane tethers and act only on ion channels and receptors of the cell-population that expresses the t-toxin and not on identical receptors present in neighboring cells that do not express the t-toxin\n",
    "    \n",
    "  * Consist of:\n",
    "      1. peptide toxin\n",
    "      2. a tag ? \n",
    "      3. a linker ?\n",
    "      4. a transmembrane domaine\n",
    "      5. a fluorescent marker (e.g. EGFP)\n",
    "\n",
    "      [“The King is dead”: Checkmating ion channels with tethered toxins](.\\review_tethered_toxins_2010.pdf)\n",
    "   <img  src=\"l3g2.png\"/>\n",
    "     \n",
    "  * Typically expressed using [viral transfer](https://en.wikipedia.org/wiki/Viral_transfer) \n",
    "  * Can be used in vitro and in vivo (e.g. used already in insects, zebrafish, mice)\n",
    "  * Can be modified to be\n",
    "    * Inducable - activated or undergoing expression only in the presence of a particular molecule (To **reversibly** manipulate neuronal activity in specific cell-types )\n",
    "    * Cell-type specific\n",
    "  * **Applications**\n",
    "    * Silencing synaptic transmission\n",
    "    * Localizing receptor distribution\n",
    "    * Functionally “deleting” certain receptors exclusively in selected cells\n",
    "   \n"
   ]
  },
  {
   "cell_type": "markdown",
   "metadata": {},
   "source": [
    "### Lecture 4."
   ]
  },
  {
   "cell_type": "markdown",
   "metadata": {},
   "source": [
    "<a id='l5'></a>\n",
    "### Lecture 5. Imaging \n"
   ]
  },
  {
   "cell_type": "markdown",
   "metadata": {},
   "source": [
    "<a id='l5p1'></a>\n",
    "#### Part 1. Fluorescence \n",
    "\n",
    "* **Fluorophors** are the molecule that can absorb energy (in a specific wavelength) ans re-emits energy at different **specific** wavelength\n",
    "  1. Light energy is absorted. Electron moves to a higher energy orbital \n",
    "  2. *Something* happens inside the molecule\n",
    "      3. The energy is re-emitted in form of a photon of a [different wavelength](#length_difference)\n",
    "* **Molecular electronic transitions** take place when electrons in a molecule are excited from **one energy level to a higher energy level**. The energy change associated with this transition provides information on the structure of a molecule and determines many molecular properties such as color.\n",
    "* Not all wavelength are appropriate for fluorophors.\n",
    "  * $\\lambda<200 nm$ - energy $E=\\frac{hc}{\\lambda}$ is high enough to ionize molecule (can broke $C-C$ bonds)\n",
    "  * $\\lambda>700 nm$ - only low lying S1 states can be reached; typically more reactive ???\n",
    "$\\Rightarrow$ such fluorophors have low thermal and photochemical stability    \n",
    "    **Why fluorophors with such lambda have low thermal and photochemical stability?**\n",
    "  * $300 nm<\\lambda<700 nm$ for absorption/emission, stable and bright fluorophors\n",
    "  \n",
    " <a id='length_difference'></a> \n",
    " \n",
    "* Why the wavelength of re-emition different? \n",
    "<img  src=\"l5g1.png\"/>\n",
    "The spin of the exited electron can be the same as it was when the electrone was not exited (**singlet**) or opposite (**triplet**)\n",
    "\n",
    " So $S_1$ - is the first singlet (+one energy level, spin the same), $S_2$ - is the second singlet(+two energy levels, spin the same) \n",
    " \n",
    " $T_1$ is the first triplet (+one energy level, reversed spin)\n",
    "  \n",
    "  * **Internal conversion** is a transition from a higher to a lower electronic state in a molecule or aom. The change of energy is due to **vibrational relaxation** (The excitation energy is transformed into heat)\n",
    "  \n",
    "  * **Intersystem crossing ** is the excitation to $T_1$, so it includes changing of electron's spin. In from the new state it is hard to get back to $S_0$, because we will get  \"forbidden\" energy state (two electrons with the same spin) $\\Rightarrow$ the lifetime of electrone in $T_1$ state is $100 \\ s$, whereas $S_1$ is only $10^{-7}-10^{-9} \\ s$\n",
    "* Important parameters of fluorescent dyes\n",
    "  * $\\varepsilon$ - molar excitation coefficient is a measurement of how strongly a molecules **absorb light** at a given wavelength.\n",
    "    \n",
    "    Beer-Lambert law: $A=\\varepsilon cL$, where $A$ - absorbance, $c$ - concentation, $L$ - pathlength\n",
    "    <img  src=\"l5f2.jpg\"/>\n",
    "    The beam radiant power becomes weaker as it passes through solution\n",
    "  * Quantum yield : $ \\Phi_{f}$ $ =\\frac{N_{emitted}}{N_{absorbed}}$\n",
    "  * Fluorescence lifetime $\\tau_f$ - average **time** a molecule spends in its excited\n",
    "(singlet) state **before emission**\n",
    "occurs \n",
    "\n",
    "    [Photo-physical properties of $Ca^{2+}$-indicator dyes suitable fortwo-photon fluorescence-lifetime recordings](http://onlinelibrary.wiley.com/doi/10.1111/j.1365-2818.2007.01746.x/epdf)\n",
    "\n",
    "    <img  src=\"l5f3.jpg\"/>\n",
    "> $Ca^{2+}$-dependence FLs of OGB-2 and CO.\n",
    "\n",
    ">  $A$ Family of normalized FL curves of OGB-2 measured at different [$Ca^{2+}$] (colour coding as in ). \n",
    "\n",
    ">  $B$ Normalized amplitudes of the fast and slow components (filled and open triangles, respectively) obtained from   global, double-exponential fits to three independent $Ca^{2+}$ calibration series. The fast component corresponds   to the free dye, the slow to the $Ca^{2+}$-dye complex. The black and grey lines represent fits [Eq. (4); Table     1] to the fast and slow lifetime components, respectively. The dotted line indicates the calculated KD. \n",
    "\n",
    ">  $C, D$ show the analogous data for CO. Here the black and grey lines in (D) represent fits to Eq. (4).\n",
    "    "
   ]
  },
  {
   "cell_type": "markdown",
   "metadata": {},
   "source": [
    "<a id='l5p2'></a>\n",
    "#### Part 2. FRED - Fluorescence/Förster Energy Transfer\n",
    "<img  src=\"l5f4.png\"/>\n",
    "\n",
    "- non-radiative processes:\n",
    "  - < 1 nm: short-range (Dexter process)\n",
    "  - 1-10 nm: long range (Förster process) -> FRET\n",
    "<img  src=\"l5f5.png\"/>\n",
    "So when the distance between two parts of protein is small enough there is FRET\n",
    "* Examples: \n",
    "  - Ca2+ biosensor \n",
    "  <img  src=\"l5f6.png\"/>\n",
    "  - Detect protease (peptide that can cut bounds between amino acids) action\n",
    "      <img  src=\"l5f7.png\"/>\n",
    "  - FRET-based voltage sensor\n",
    "      <img  src=\"l5f8.png\"/>"
   ]
  },
  {
   "cell_type": "markdown",
   "metadata": {},
   "source": [
    "<a id='l5p3'></a>\n",
    "#### Part 3. Fluorophors\n",
    "\n",
    "* Synthetic (organic) dyes\n",
    "  - fluorescein  or rhodamine-based\n",
    "  - free form(salt) or with other molecules (antibodies, [dextran][1])\n",
    "  - new dyes are still developing (Alexa family)\n",
    "  \n",
    "  \n",
    "* Nanocrystals (Quantum dots)\n",
    "    <img  src=\"l5f9.png\"/>\n",
    "    **What is the reason for steptavidin?**\n",
    "  - size $\\rightarrow$ emission wavelength (so we can change size to get emission on **many different wavelength**)\n",
    "  - shell: increases **stability** and **quantum yield** $ \\Phi_{f}$ (**How?**)\n",
    "  - very toxic $\\rightarrow$ usage of peptides, polymers around nanocrystal\n",
    "  - advantages: \n",
    "    - tunable to narrow emission spectrum\n",
    "    - broad **excitation** spectrum\n",
    "    - high photostability\n",
    "    - long fluorescence lifetime $\\tau_f$ (tens of ns)\n",
    "  - disadvantages:\n",
    "    - difficult to produce\n",
    "    - blinking (the the emission quickly turns off and on )\n",
    "    - highly toxic materials\n",
    "  \n",
    "  \n",
    "* Genetically-encoded (fluorescent proteins)\n",
    "  - fluorophor is protected in the center of the structure $\\rightarrow$ decreased phototoxicity\n",
    "  - GFP (Green Flurecent protein):\n",
    "    - extinction coefficient small $\\rightarrow$ there are some improved versions\n",
    "    - fluorophor is protected in the center of the barrel-like structure $\\rightarrow$ less toxicity\n",
    "  - RFP (Red Flurecent protein):\n",
    "    - GFP-like protein\n",
    "    - Slow maturation (when genes expressing and folding are **ineffetient** ) $\\rightarrow$ \n",
    "    *codon optimization* towards efficient expression in mammalian cells (we have to modify genes to get better version for mammalian cells)\n",
    "  - advanteges:\n",
    "    - genetically encoded\n",
    "    - much **less phototoxic** than most synthetic\n",
    "dyes\n",
    "  - disadvanteges: \n",
    "    - much **larger** than most synthetic dyes\n",
    "    - some are **inherently ion dependent**\n",
    "(e.g. pH or Cl- dependent)\n",
    "\n",
    "* Fluorescent activity indicators \n",
    "  - Synthetic indicators for $Ca^{++}$ (much better because the $Ca^{++}$ consentration can change in 1000 times $\\rightarrow$ easy to detect), $Na^+, Cl^-$\n",
    "  - Indicator dyes as cell impermeable form (salts) or as\n",
    "cell-permeable AM-ester \n",
    "  - Genetically-encoded indicators (“Biosensors”)\n",
    "  \n",
    "  \n",
    "* How to get indicators/dyes into cells?\n",
    "  - Synthetic indicators/dyes:\n",
    "  \n",
    "   1. via pipettes (e.g. during electrical patch-clamp recordings) or microinjection, iontophoresis etc\n",
    "   2. membrane-permeable dyes (e.g. AM esters)     \n",
    "      - first uncharged $\\rightarrow$ can get to the cell, when lipophilic blocking groups are cut by\n",
    "nonspecific esterases, resulting in a charged form $\\rightarrow$ dye stays in the cell)\n",
    "   3. via bulk or single-cell electroporation\n",
    "   4. by application of crystals of lipophilic dyes to the cell membrane (e.g. DiO, DiI)\n",
    "\n",
    "  - Genetically encoded indicators (fluorescent proteins, introduction of the DNA construct):\n",
    "    \n",
    "    1. transgenic animals (mouse)\n",
    "    2. viral transfection\n",
    "    3. chemical [permeabilization][2]\n",
    "    4. via bulk or single-cell electroporation (electropermeabilization)\n",
    "  \n",
    "  \n",
    "[1]:https://en.wikipedia.org/wiki/Dextran\n",
    "[2]:https://en.wiktionary.org/wiki/permeabilization"
   ]
  },
  {
   "cell_type": "markdown",
   "metadata": {},
   "source": [
    "### Lecture 6. Light/fluorescence microscopy"
   ]
  },
  {
   "cell_type": "markdown",
   "metadata": {},
   "source": [
    "<a id='l6p1'></a>\n",
    "\n",
    "#### Part 1. Confocal fluorescent microscopy"
   ]
  },
  {
   "cell_type": "markdown",
   "metadata": {},
   "source": [
    "<a id='l6p2'></a>\n",
    "#### Part 2. Two-photon fluorescent microscopy"
   ]
  },
  {
   "cell_type": "markdown",
   "metadata": {},
   "source": [
    "<a id='l6p3'></a>\n",
    "\n",
    "#### Part 3. Super-Resolution Microscopy"
   ]
  },
  {
   "cell_type": "markdown",
   "metadata": {},
   "source": [
    "<a id='l7'></a>\n",
    "### Lecture 7. Electro microscopy with application example"
   ]
  },
  {
   "cell_type": "markdown",
   "metadata": {},
   "source": [
    "<a id='l7p1'></a>\n",
    "#### Part 1. Discription of EM "
   ]
  },
  {
   "cell_type": "markdown",
   "metadata": {},
   "source": [
    "<a id='l7p2'></a>\n",
    "#### Part 2. Case study. Undestanding of movement directional ganglian cells"
   ]
  },
  {
   "cell_type": "markdown",
   "metadata": {
    "collapsed": true
   },
   "source": [
    "### Tutorial 2. Imaging\n",
    "\n",
    "- What are possible solutions to space clamp related issues?\n",
    "\n",
    "- Why do we use silverchlorid electrodes? Because it is well-defined current source and reference \n",
    "\n",
    "- In tetred toxins, what is the function of tag? \n",
    "\n",
    "- Why fluorophors with big wavelength have low thermal and photochemical stability?\n",
    "\n",
    "- What is the reason for steptavidin, in quantum dots?\n"
   ]
  },
  {
   "cell_type": "code",
   "execution_count": null,
   "metadata": {
    "collapsed": true
   },
   "outputs": [],
   "source": []
  }
 ],
 "metadata": {
  "kernelspec": {
   "display_name": "Python [Root]",
   "language": "python",
   "name": "Python [Root]"
  },
  "language_info": {
   "codemirror_mode": {
    "name": "ipython",
    "version": 2
   },
   "file_extension": ".py",
   "mimetype": "text/x-python",
   "name": "python",
   "nbconvert_exporter": "python",
   "pygments_lexer": "ipython2",
   "version": "2.7.12"
  }
 },
 "nbformat": 4,
 "nbformat_minor": 0
}
