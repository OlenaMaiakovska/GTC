{
 "cells": [
  {
   "cell_type": "markdown",
   "metadata": {},
   "source": [
    "### Questions 1\n",
    "\n",
    "1. What does Ohm’s Law describe? **Which implications does it have for neuroelectric activity of the brain?** How does the current flow look like for a dipolar field with an electrical source (+ pole) and a sink (- pole)? \n",
    ">  - It describes dependences between voltage and current. \n",
    "  - <img  src=\"images/q2g1meg.png\" width=400/>\n",
    "2. What is superconductivity? How can you generate it? Give examples where it is used in brain imaging\n",
    ">  - The resistance of conductor goes to zero when temperature goes to zero. \n",
    "  - Cool your conductor with liquid helium (4K) \n",
    "  - It is used\n",
    "    - strong magnets (they are created by superconductor coils)\n",
    "    - magnetic field sensors \n",
    "    - magnetic shielding \n",
    "   \n",
    "3. What does Bio-Savart’s Law describe?  **Where does it play a role? Which implications does it have for neuronal activity in the brain?**\n",
    ">   - It describes dependence of magnetic field from current. It plays a role in MEG, because we measure MF and than solve inverse problem to find the currents. \n",
    "4. Give an example for Faraday’s Law of induction. How does it apply in Transcranial Magnetic Stimulation?\n",
    ">  - Turn on and off magnetic field and you will get voltage $U=\\frac{d \\Phi}{d t}$\n",
    "  - In TMS you apply changing magnetic field to induce electrical activity in some region of the brain. \n",
    "5. How can you shield electric and magnetic fields?\n",
    ">  - Faraday cage for electric field\n",
    "  - Mu-Metal, Meissner Effect (need superconductivity), Eddy current (to create MF in opposite direction)"
   ]
  },
  {
   "cell_type": "markdown",
   "metadata": {},
   "source": [
    "### Questions 2\n",
    "\n",
    "1. What is the reference electrode what is the ground electrode good for in electrophysiological recordings?\n",
    "+\n",
    "2. **The following EEG-topography has been recorded for a certain time point. The left ear, position A1, has been used as reference electrode. Calculate the topography for Cz as reference and a common average reference**\n",
    "\n",
    "3. What are new developments in EEG?\n",
    "+\n",
    "4. What are possible sources of technical and physiological artifacts in EEG?\n",
    "+\n",
    "5.  **How strong  is the brain activity measured by EEG?**\n",
    "-\n",
    "6. What are critical artifacts in EEG and MEG? What can you do to minimize them?\n",
    "+"
   ]
  },
  {
   "cell_type": "markdown",
   "metadata": {},
   "source": [
    "### Questions 3\n",
    "1. You are supposed to set up an EEG experiment. The focus of the experiment is on gamma band activity which is expected to be strongest at 70 Hz. Which sampling frequency will you use and which filter settings will you apply to your EEG amplifier.\n",
    "2. You want to study differences between lower alpha (8 to 10 Hz) and higher alpha power (11 to 13 Hz). What are the implications of this goal for data acquisition?\n",
    "3. Electrodes on the forehead show quite often slow drifts because of the higher density of sweat glands. What can you do to record a decent signal?\n",
    "4. What is a magnetoemeter, an axial and a planar gradiometer?\n",
    "5. How does the spectrum of the depicted time series looks like?\n",
    "<img  src=\"images/q3g1meg.png\" width=400/>"
   ]
  },
  {
   "cell_type": "markdown",
   "metadata": {},
   "source": [
    "### Questions 4\n",
    "\n",
    "1. What are the assumptions of an equivalent dipole model?\n",
    ">  - It is the model that use only one dipole as a resource of MF. \n",
    "2. Which sources do you expect for the following MEG topographies measured by axial gradiometers? How would the activity of planar gradiometers would look like? How does the EEG topography of these sources look like?\n",
    "\n",
    "><img  src=\"images/q4g1meg.png\" width=200/>\n",
    "\n",
    "\n",
    "\n",
    "\n",
    "><img  src=\"images/q4g2meg.png\" width=200/>\n",
    "\n",
    "\n",
    "> - Much stronger? Two dipoles with the same intensity have the same source of current. \n",
    "  - 90  rotation. \n",
    "\n",
    "3. How is the coregistration between an MEG and an MRI recording done?\n",
    "> - 3 coils with oscillatory current with high frequency \n",
    "\n",
    "4. What are the strength of MEG and EEG and how do they complement each other?\n",
    "> - EEG cheaper +\n",
    " - EEG reference problem. -\n",
    " - EEG worse source localizations -\n",
    " - MEG – no radial sources -\n",
    " - MEG, EEG – give good temporal resolution, but may be not useful\n",
    "\n",
    "5. What are the assumptions underlying the differentiation of components in event-related fields. \n",
    "> - Each component has functional meaning, generated in some areas, so on. \n",
    "\n",
    "6. What is an exogenous and an endogenous components. How do they differ\n",
    "> - exogenous – first components only on primal  signal (first 100 ms, hard wired)\n",
    " - Endogenous – components that depend on attention, and other properties that are created with \n",
    "\n",
    "7. Give examples for cognitive components in EEG\n",
    "> - P300 – \n",
    " - N400  - semantic,\n",
    " - P600 – language"
   ]
  },
  {
   "cell_type": "code",
   "execution_count": null,
   "metadata": {
    "collapsed": true
   },
   "outputs": [],
   "source": []
  }
 ],
 "metadata": {
  "kernelspec": {
   "display_name": "Python [Root]",
   "language": "python",
   "name": "Python [Root]"
  },
  "language_info": {
   "codemirror_mode": {
    "name": "ipython",
    "version": 2
   },
   "file_extension": ".py",
   "mimetype": "text/x-python",
   "name": "python",
   "nbconvert_exporter": "python",
   "pygments_lexer": "ipython2",
   "version": "2.7.12"
  }
 },
 "nbformat": 4,
 "nbformat_minor": 0
}
