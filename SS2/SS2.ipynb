{
 "cells": [
  {
   "cell_type": "code",
   "execution_count": null,
   "metadata": {
    "collapsed": true
   },
   "outputs": [],
   "source": []
  },
  {
   "cell_type": "markdown",
   "metadata": {},
   "source": [
    "Auditory scene analysis\n",
    " * Binding of elements to entities \n",
    "     * sound from single tones \n",
    "     * temporal binding / auditory streams\n",
    " * Scene segmentation\n",
    "     * separation of sounds \n",
    "     * stream segmentation \n",
    " \n",
    " \"Gestalt\" perception \n",
    "  Law of similarity \n",
    "  Law of proximity \n",
    " "
   ]
  },
  {
   "cell_type": "markdown",
   "metadata": {},
   "source": [
    "Lecture 1.Somatosensory system\n",
    "\n",
    "Function\n",
    " - We use SS to social contacts. \n",
    "   - Emotion \n",
    "   - \n",
    "   - \n",
    " - We use pain system to  protect us. \n",
    " - Thermoception \n",
    "   - protection of body integrity\n",
    "   - homeostasis\n",
    " - PROPRIOCEPTION. (relative position of neighbouring parts)\n",
    " - COORDINATED MOVEMENTS. \n",
    " - Touch (near sense)\n",
    "   - we have to sense, when we planing our motions (surface, shape, ...)\n",
    "   - fast ()\n",
    "   \n",
    "Methods \n",
    " \n",
    " - Stimulation\n",
    "   - Mechanical stimulation \n",
    "     - von Frey hair \n",
    "     - air puff\n",
    "     - inflatable membrane (easy in MEG conditions)\n",
    "     - brush stroke\n",
    "     - pinprick (windup phenomenon)\n",
    "     - solenoids, loudspeaker\n",
    "     - two-point discrimination \n",
    "     - grating orientations \n",
    "     - vibratory sensitivity\n",
    "     - Braille elements\n",
    "     - force\n",
    "   - Electrical stimulation\n",
    "     - median nerve stimulation\n",
    "   - Thermal stimulation\n",
    "     - cold pressure test\n",
    "     - peltier elements \n",
    "     - laser\n",
    "     \n"
   ]
  },
  {
   "cell_type": "markdown",
   "metadata": {},
   "source": [
    "Afferent Pathway: Fibers \n",
    "    - It is better to use laser to study C-fibers\n",
    "    - segmental organization \n",
    "Talamus \n",
    "    - VPLM \n",
    "    - Intralaminar \n",
    " In 3b we see contralateral input \n",
    " In 1 we see integration between inputs\n",
    " \n",
    " Functional organization of rat barrel cortex\n",
    "    "
   ]
  },
  {
   "cell_type": "markdown",
   "metadata": {
    "collapsed": true
   },
   "source": [
    "#### Near-threshold stimulus \n",
    "\n",
    "first stimulus modulates test stimulus\n",
    "\n",
    "Addaptation effect"
   ]
  },
  {
   "cell_type": "code",
   "execution_count": null,
   "metadata": {
    "collapsed": true
   },
   "outputs": [],
   "source": []
  }
 ],
 "metadata": {
  "kernelspec": {
   "display_name": "Python [Root]",
   "language": "python",
   "name": "Python [Root]"
  },
  "language_info": {
   "codemirror_mode": {
    "name": "ipython",
    "version": 2
   },
   "file_extension": ".py",
   "mimetype": "text/x-python",
   "name": "python",
   "nbconvert_exporter": "python",
   "pygments_lexer": "ipython2",
   "version": "2.7.12"
  }
 },
 "nbformat": 4,
 "nbformat_minor": 0
}
