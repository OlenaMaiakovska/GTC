{
 "cells": [
  {
   "cell_type": "markdown",
   "metadata": {},
   "source": [
    "### Lecture 3. \n",
    "#### Part 1. Bayes Rule \n"
   ]
  },
  {
   "cell_type": "markdown",
   "metadata": {},
   "source": [
    "The next step in finding relationship between $X$ and $Y$. Before it was a function, now it will be undeterministing estimation. So we want to predict $P(Y|X)$.\n",
    "\n",
    "$$P(A|B)=\\frac{P(A\\cap B)}{B} \\Rightarrow P(A\\cap B)=P(A|B)P(B) \\Rightarrow P(C\\cap B\\cap A)=P(C|A\\cap B)P(A\\cap B)$$\n",
    "\n",
    "Independence and rectangular Venn diagramm\n",
    "\n",
    "Bayes Rule - finding the inverse to a function. $y=f(x)$ is only spetial case : $P(y|x)=\\delta (y-f(x))$\n",
    "\n",
    "There are other forms of Bayes Rule: $P(A|B \\cap X)$\n",
    "\n",
    "Why when we have joint probability distribution we can find any logical function of these variables? We can integrate over the other \n",
    "variables. \n",
    "$P(x,y,z)$\n",
    "\n",
    "But we will never learn joint distribution in large dimentional problems in the direct way.  So we want to combine prior with data. Assumptions! Right assumpions can help you with reduction of your future space. \n",
    "\n",
    "$P(D|\\theta)$ is $P(D|\\theta, model)$\n",
    "\n",
    "We can do MLE : $$\\hat{\\theta}=\\arg \\max_{\\theta} (\\ln P(D|\\theta))$$\n",
    "\n",
    "If we know $P(D|\\theta)$ that we can find $P(\\theta|D)=\\frac{P(D|\\theta) \\cdot P(\\theta)}{P(D)}$\n",
    "\n",
    "Beta prior distribution - it is prior that we can get as posterior distribution, if we use uniform distribution as prior. \n",
    "\n",
    "$$P(\\theta)=\\frac{\\theta^{\\beta_H-1}(1-\\theta)^{\\beta_T-1}}{Beta(\\beta_H,\\beta_T)}$$\n",
    "\n",
    "$$\\hat{\\theta}=\\frac{\\alpha_H+\\beta_H-1}{\\alpha_H+\\beta_H+\\alpha_T+\\beta_T-2}$$\n",
    "\n",
    "\n",
    "$P(D|\\theta)=Be$\n",
    "\n",
    "Fisher information! Nature paremetrezation. \n",
    "\n",
    "The fisher information gives us sensitivity to changes in probabilities. "
   ]
  },
  {
   "cell_type": "code",
   "execution_count": null,
   "metadata": {
    "collapsed": true
   },
   "outputs": [],
   "source": []
  }
 ],
 "metadata": {
  "kernelspec": {
   "display_name": "Python [Root]",
   "language": "python",
   "name": "Python [Root]"
  },
  "language_info": {
   "codemirror_mode": {
    "name": "ipython",
    "version": 2
   },
   "file_extension": ".py",
   "mimetype": "text/x-python",
   "name": "python",
   "nbconvert_exporter": "python",
   "pygments_lexer": "ipython2",
   "version": "2.7.12"
  }
 },
 "nbformat": 4,
 "nbformat_minor": 0
}
