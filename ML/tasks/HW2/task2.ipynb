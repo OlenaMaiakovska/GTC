{
 "cells": [
  {
   "cell_type": "code",
   "execution_count": 1,
   "metadata": {
    "collapsed": false
   },
   "outputs": [],
   "source": [
    "import numpy as np\n",
    "from __future__ import division\n",
    "from IPython.core.debugger import Tracer; debug_here = Tracer()\n",
    "from matplotlib import pyplot as plt"
   ]
  },
  {
   "cell_type": "code",
   "execution_count": 8,
   "metadata": {
    "collapsed": false
   },
   "outputs": [],
   "source": [
    "path='./data.txt'\n",
    "data = np.loadtxt(path, delimiter=\"\\t\")\n",
    "data=data[:,1:]\n",
    "\n",
    "#random 5000 is test \n",
    "ind=np.random.permutation(len(data))\n",
    "train=data[ind[:20000],:]\n",
    "test=data[ind[20000:],:]\n",
    "x_test=test[:,0]\n",
    "y_test=test[:,1]\n",
    "\n",
    "m=np.mean(test,axis=0)\n",
    "m_x_test=m[0]\n",
    "m_y_test=m[1]\n",
    "\n",
    "n_list=range(100,20000,100)\n",
    "log_l_train=[]\n",
    "log_l_test=[]\n",
    "a_list=[]\n",
    "for n in n_list:\n",
    "    data=train[0:n,:]\n",
    "    x=data[:,0]\n",
    "    y=data[:,1]\n",
    "    \n",
    "    m=np.mean(data,axis=0)\n",
    "    m_x=m[0]\n",
    "    m_y=m[1]\n",
    "    \n",
    "    a=(y-m_y).dot(x.T)/(x-m_x).dot(x.T)\n",
    "    b=m_y-a*m_x\n",
    "    a_list.append(a)\n",
    "    sigma_x=(1/n)*(x-m_x).dot((x-m_x).T)\n",
    "    diff=y-a*x-b\n",
    "    diff_test=y_test-a*x_test-b\n",
    "    \n",
    "    sigma_y=(1/n)*diff.dot(diff.T) \n",
    "    \n",
    "    \n",
    "    log_l_train.append(((-1/(2*sigma_y))*(diff.dot(diff.T))+(-1/(2*sigma_x))*((x-m_x).dot((x-m_x).T)))/n)\n",
    "    log_l_test.append((-1/(2*sigma_y)*(diff_test.dot(diff_test.T))+(-1/(2*sigma_x))*((x_test-m_x_test).dot((x_test-m_x_test).T)))/5000)\n",
    "\n",
    "plt.plot(log_l_train)\n",
    "plt.plot(log_l_test)\n",
    "plt.xlabel('number of train examples')\n",
    "plt.ylabel('normalised log likelihood')\n",
    "\n",
    "# plt.plot(a_list)\n",
    "\n",
    "plt.show()"
   ]
  },
  {
   "cell_type": "markdown",
   "metadata": {
    "collapsed": false
   },
   "source": [
    "### Exercise 2. \n",
    "Prior distributions for our parametrs "
   ]
  },
  {
   "cell_type": "code",
   "execution_count": null,
   "metadata": {
    "collapsed": true
   },
   "outputs": [],
   "source": []
  }
 ],
 "metadata": {
  "kernelspec": {
   "display_name": "Python 2",
   "language": "python",
   "name": "python2"
  },
  "language_info": {
   "codemirror_mode": {
    "name": "ipython",
    "version": 2
   },
   "file_extension": ".py",
   "mimetype": "text/x-python",
   "name": "python",
   "nbconvert_exporter": "python",
   "pygments_lexer": "ipython2",
   "version": "2.7.11"
  }
 },
 "nbformat": 4,
 "nbformat_minor": 0
}
