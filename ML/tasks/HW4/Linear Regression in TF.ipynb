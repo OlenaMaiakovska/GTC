{
 "cells": [
  {
   "cell_type": "markdown",
   "metadata": {},
   "source": [
    "#### Logistic regression realization via tensorflow. Author:  Andrii Zadaianchuk"
   ]
  },
  {
   "cell_type": "code",
   "execution_count": 23,
   "metadata": {
    "collapsed": true
   },
   "outputs": [],
   "source": [
    "import time\n",
    "import numpy as np\n",
    "import tensorflow as tf\n",
    "from util import load_data\n",
    "\n",
    "# Step 1: Read in data\n",
    "\n",
    "(X_train,y_train,X_test, y_test)=load_data()\n",
    "y_train=np.c_[y_train,1-y_train]\n",
    "y_test=np.c_[y_test,1-y_test]\n",
    "n_features=X_train.shape[1]"
   ]
  },
  {
   "cell_type": "code",
   "execution_count": 24,
   "metadata": {
    "collapsed": false
   },
   "outputs": [],
   "source": [
    "# Step 2: Define parameters for the model\n",
    "\n",
    "learning_rate = 0.01\n",
    "size = X_train.shape[0]\n",
    "itr=500\n",
    "\n",
    "# Step 3: create placeholders for features and labels\n",
    "\n",
    "X = tf.placeholder(tf.float32, [None, n_features])\n",
    "y = tf.placeholder(tf.float32, [None, 2])\n",
    "\n",
    "#Step 4: create weights and bias\n",
    "\n",
    "w = tf.Variable(tf.random_normal(shape=[n_features, 2], stddev=0.01), name=\"weights\")\n",
    "b = tf.Variable(tf.zeros([1, 2]), name=\"bias\")\n",
    "\n",
    "# Step 5: predict Y from X and w, b\n",
    "\n",
    "logits = tf.matmul(X, w) + b\n",
    "\n",
    "# Step 6: define loss function\n",
    "\n",
    "entropy = tf.nn.softmax_cross_entropy_with_logits(logits, y)\n",
    "loss = tf.reduce_mean(entropy) # computes the mean over examples in the batch\n",
    "\n",
    "#Step 7: define training op\n",
    "\n",
    "optimizer =tf.train.GradientDescentOptimizer(learning_rate=learning_rate).minimize(loss)\n",
    "init = tf.global_variables_initializer()\n",
    "\n",
    "#Step 8: accuracy \n",
    "\n",
    "correct_prediction = tf.equal(tf.argmax(logits,1), tf.argmax(y,1))\n",
    "\n",
    "accuracy = tf.reduce_mean(tf.cast(correct_prediction, tf.float32))\n"
   ]
  },
  {
   "cell_type": "code",
   "execution_count": null,
   "metadata": {
    "collapsed": true
   },
   "outputs": [],
   "source": [
    "with tf.Session() as sess:\n",
    "    sess.run(init)\n",
    "    for i in range(itr):\n",
    "        (_,lossn)=sess.run([optimizer, loss], feed_dict={X: X_train, y:y_train})\n",
    "        if i%50==0:\n",
    "            print lossn\n",
    "            acc=sess.run([accuracy],feed_dict={X:X_train, y: y_train})\n",
    "            print \" Accuracy: \", acc\n",
    "    acc=sess.run([accuracy],feed_dict={X:X_test, y: y_test})\n",
    "    print \"Test Accuracy: \", acc"
   ]
  }
 ],
 "metadata": {
  "kernelspec": {
   "display_name": "Python [Root]",
   "language": "python",
   "name": "Python [Root]"
  },
  "language_info": {
   "codemirror_mode": {
    "name": "ipython",
    "version": 2
   },
   "file_extension": ".py",
   "mimetype": "text/x-python",
   "name": "python",
   "nbconvert_exporter": "python",
   "pygments_lexer": "ipython2",
   "version": "2.7.12"
  }
 },
 "nbformat": 4,
 "nbformat_minor": 0
}
