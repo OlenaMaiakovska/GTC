{
 "cells": [
  {
   "cell_type": "markdown",
   "metadata": {},
   "source": [
    "### HW3. Author Andrii Zadaianchuk"
   ]
  },
  {
   "cell_type": "code",
   "execution_count": 19,
   "metadata": {
    "collapsed": true
   },
   "outputs": [],
   "source": [
    "import numpy as np\n",
    "from __future__ import division"
   ]
  },
  {
   "cell_type": "code",
   "execution_count": 11,
   "metadata": {
    "collapsed": false
   },
   "outputs": [],
   "source": [
    "# Load data\n",
    "X_train=np.genfromtxt('./data/train.csv', delimiter=',')\n",
    "X_test=np.genfromtxt('./data/test.csv', delimiter=',')\n",
    "y_train=np.genfromtxt('./data/train_labels.txt', delimiter=',')\n",
    "y_test=np.genfromtxt('./data/test_labels.txt', delimiter=',')"
   ]
  },
  {
   "cell_type": "code",
   "execution_count": 99,
   "metadata": {
    "collapsed": false
   },
   "outputs": [
    {
     "name": "stdout",
     "output_type": "stream",
     "text": [
      "(0.9748177601060305, 0.97785160575858254)\n"
     ]
    }
   ],
   "source": [
    "alpha=1000\n",
    "ind0=y_train==0\n",
    "ind1=y_train==1\n",
    "pi=[]\n",
    "pi.append((sum(ind0)+alpha)/(y_train.shape[0]+2*alpha))\n",
    "pi.append((sum(ind1)+alpha)/(y_train.shape[0]+2*alpha))\n",
    "\n",
    "n=X_train.shape[1]\n",
    "alpha=0.001\n",
    "Theta0=((X_train[ind0].sum(axis=0)+alpha)/(X_train[ind0].sum()+n*alpha))\n",
    "Theta1=((X_train[ind1].sum(axis=0)+alpha)/(X_train[ind1].sum()+n*alpha))\n",
    "\n",
    "def clasify(x,Theta0,Theta1,pi):\n",
    "    \n",
    "    if pi[0]+x.dot(np.log(Theta0))>pi[1]+x.dot(np.log(Theta1)):\n",
    "        return 0\n",
    "    return 1\n",
    "\n",
    "acc_train=(np.apply_along_axis(lambda x: clasify(x,Theta0,Theta1,pi),axis=1,arr=X_train)==y_train).sum()/y_train.shape[0]\n",
    "acc_test=(np.apply_along_axis(lambda x: clasify(x,Theta0,Theta1,pi),axis=1,arr=X_test)==y_test).sum()/y_test.shape[0]\n",
    "\n",
    "print (acc_train,acc_test)"
   ]
  },
  {
   "cell_type": "code",
   "execution_count": 96,
   "metadata": {
    "collapsed": false
   },
   "outputs": [
    {
     "data": {
      "text/plain": [
       "0.97305058537662914"
      ]
     },
     "execution_count": 96,
     "metadata": {},
     "output_type": "execute_result"
    }
   ],
   "source": [
    "(np.apply_along_axis(lambda x: clasify(x,Theta0,Theta1,pi),axis=1,arr=X_train)==y_train).sum()/y_train.shape[0]"
   ]
  },
  {
   "cell_type": "code",
   "execution_count": 94,
   "metadata": {
    "collapsed": false
   },
   "outputs": [
    {
     "data": {
      "text/plain": [
       "[0.50299960396426879, 0.49700039603573121]"
      ]
     },
     "execution_count": 94,
     "metadata": {},
     "output_type": "execute_result"
    }
   ],
   "source": [
    "pi"
   ]
  },
  {
   "cell_type": "code",
   "execution_count": null,
   "metadata": {
    "collapsed": true
   },
   "outputs": [],
   "source": []
  }
 ],
 "metadata": {
  "kernelspec": {
   "display_name": "Python [Root]",
   "language": "python",
   "name": "Python [Root]"
  },
  "language_info": {
   "codemirror_mode": {
    "name": "ipython",
    "version": 2
   },
   "file_extension": ".py",
   "mimetype": "text/x-python",
   "name": "python",
   "nbconvert_exporter": "python",
   "pygments_lexer": "ipython2",
   "version": "2.7.12"
  }
 },
 "nbformat": 4,
 "nbformat_minor": 0
}
