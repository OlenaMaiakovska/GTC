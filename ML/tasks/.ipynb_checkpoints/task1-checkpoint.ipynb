{
 "cells": [
  {
   "cell_type": "markdown",
   "metadata": {},
   "source": [
    "## Andrii Zadaianchuk, NIP \n",
    "### Desicion Tree with Information Gain spliting creteria"
   ]
  },
  {
   "cell_type": "code",
   "execution_count": 98,
   "metadata": {
    "collapsed": false
   },
   "outputs": [],
   "source": [
    "import numpy as np\n",
    "import matplotlib.pyplot as plt\n",
    "%matplotlib inline  \n",
    "import scipy.stats\n",
    "import math\n",
    "from __future__ import division\n",
    "from IPython.core.debugger import Tracer; "
   ]
  },
  {
   "cell_type": "code",
   "execution_count": 107,
   "metadata": {
    "collapsed": false
   },
   "outputs": [],
   "source": [
    "import numpy as np\n",
    "from __future__ import division\n",
    "\n",
    "# simulate two data sets. W is the same.\n",
    "nn=50\n",
    "nt=500\n",
    "W=np.random.randn(1,nn)\n",
    "X_train=np.sign(np.random.randn(nn,nt))\n",
    "y_train=np.squeeze((1+np.sign(np.dot(W,X_train)))/2) \n",
    "\n",
    "X_test=np.sign(np.random.randn(nn,nt))\n",
    "y_test=np.squeeze((1+np.sign(np.dot(W,X_test)))/2)\n"
   ]
  },
  {
   "cell_type": "code",
   "execution_count": 108,
   "metadata": {
    "collapsed": true
   },
   "outputs": [],
   "source": [
    "class Node(object):\n",
    "    def __init__(self, data):\n",
    "        self.data = data\n",
    "        self.children = []\n",
    "\n",
    "    def add_child(self, obj):\n",
    "        self.children.append(obj)\n",
    "    @property \n",
    "    def is_leaf(self):\n",
    "        return not self.children"
   ]
  },
  {
   "cell_type": "code",
   "execution_count": 109,
   "metadata": {
    "collapsed": false
   },
   "outputs": [],
   "source": [
    "def entropy(y):\n",
    "    p_1=np.sum(y)/y.shape[0] #probability of y=1\n",
    "    p_y=[p_1, 1-p_1]\n",
    "    return scipy.stats.entropy(p_y,base=2)\n",
    "\n",
    "def crossentropy(y,y_test):\n",
    "    p_1=np.sum(y)/y.shape[0] \n",
    "    p_y=[p_1, 1-p_1]\n",
    "    p_1_test=np.sum(y_test)/y_test.shape[0]\n",
    "    p_y_test=[p_1_test, 1-p_1_test]\n",
    "    if (scipy.stats.entropy(p_y)==0)and(p_y_test==p_y):\n",
    "        return 0;\n",
    "    return -np.sum(p_y_test*np.log2(p_y))\n",
    "\n",
    "def s_rel_entropy(y,atr,attribute):\n",
    "    y_cond=y[attribute==atr]\n",
    "    p_1_cond=np.sum(y_cond)/y_cond.shape[0]\n",
    "    p_y_cond=[p_1_cond,1-p_1_cond]\n",
    "    return scipy.stats.entropy(p_y_cond,base=2)\n",
    "\n",
    "s_rel_entropy_vec=np.vectorize(s_rel_entropy,excluded=[0,2]) # to find rel entropies for all \n",
    "                                                             # different values of attribute (+1 -1 )\n",
    "\n",
    "def find_information_gain(Node):\n",
    "    try:\n",
    "        return Node.information_gain_max #to not count the gain twice \n",
    "    except AttributeError:\n",
    "        pass\n",
    "    X=Node.data[0]\n",
    "    y=Node.data[1]\n",
    "    h_y=entropy(y)\n",
    "    information_gain=[]\n",
    "    \n",
    "    #look for all atrributes to find best information gain\n",
    "    for i in range(X.shape[0]):\n",
    "        attribute=X[i,:]\n",
    "        unique_attr=np.unique(attribute) #in our case will be -1 +1 \n",
    "        p_a=np.array([np.sum(attribute==atr)/attribute.shape[0] for atr in list(unique_attr)]) #distribution of i attribute\n",
    "        \n",
    "        specific_relative_entropy=s_rel_entropy_vec(y,unique_attr,attribute)\n",
    "        relative_entropy=np.sum(p_a*specific_relative_entropy)\n",
    "        information_gain.append(h_y-relative_entropy)       \n",
    "    \n",
    "    Node.information_gain_max=np.max(information_gain)\n",
    "    Node.ind_of_best_attribute=np.argmax(information_gain)\n",
    "    return np.max(information_gain)\n",
    "\n",
    "def find_leafs(Node):\n",
    "    leafs=[]\n",
    "    if Node.is_leaf:\n",
    "        leafs.append(Node)\n",
    "    else:\n",
    "        for Node in Node.chindren:           \n",
    "            leafs.extend(find_leafs(Node))\n",
    "    return leafs\n",
    "\n",
    "            "
   ]
  },
  {
   "cell_type": "code",
   "execution_count": 110,
   "metadata": {
    "collapsed": false
   },
   "outputs": [
    {
     "name": "stderr",
     "output_type": "stream",
     "text": [
      "C:\\Anaconda2\\lib\\site-packages\\ipykernel\\__main__.py:13: RuntimeWarning: divide by zero encountered in log2\n",
      "C:\\Anaconda2\\lib\\site-packages\\ipykernel\\__main__.py:9: RuntimeWarning: invalid value encountered in double_scalars\n"
     ]
    }
   ],
   "source": [
    "#initialization\n",
    "Tree=Node((X_train,y_train))\n",
    "Tree.path=[]\n",
    "leafs=[Tree]\n",
    "max_information_gain=1 # simply something >0\n",
    "\n",
    "# lists with iteration information to plot\n",
    "entropy_vec=[]\n",
    "cross_entropy_vec=[]\n",
    "weights=[]\n",
    "\n",
    "while max_information_gain>0:\n",
    "    information_gain=[find_information_gain(leaf)*(leaf.data[1].shape[0]/nt) for leaf in leafs] # the values of max Gains of all leafs\n",
    "    max_information_gain=np.max(information_gain)\n",
    "    split_node=leafs[np.argmax(information_gain)] # the node with best max Gains\n",
    "    \n",
    "    X=split_node.data[0]\n",
    "    y=split_node.data[1]\n",
    "    split_node.attribute=split_node.ind_of_best_attribute \n",
    "    attribute=X[split_node.ind_of_best_attribute,:]\n",
    "    unique_attr=np.unique(attribute)  #in our case will be -1 +1 \n",
    "    \n",
    "    #look at W_kj\n",
    "    weights.append(W[0,split_node.attribute])\n",
    "    \n",
    "    # adding new nodes to \"best max Gain\" node, the amount is equal to \n",
    "    for atr in list(unique_attr):\n",
    "        ind=attribute==atr \n",
    "        new_node=Node((X[:,ind],y[ind])) #create new node with (X_atr,y) where X is splited to parts \n",
    "        new_node.path=split_node.path+[(split_node.attribute,atr)] #add information (j, +-1) to node\n",
    "        split_node.add_child(new_node)\n",
    "    split_node.data=[]     \n",
    "    leafs.remove(split_node)\n",
    "    leafs.extend(split_node.children)\n",
    "    \n",
    "    \n",
    "    # find conditional entropy and cross entropy \n",
    "    ent=0\n",
    "    cross_ent=0\n",
    "    for leaf in leafs:\n",
    "        y=leaf.data[1]    \n",
    "        x_leaf=np.expand_dims(np.array(zip(*leaf.path)[1]),1) #the values of x that is determind in this leaf [-1, 1, 1, 1]\n",
    "#         print len(x_leaf)\n",
    "        ind=np.all(X_test[zip(*leaf.path)[0],:]==x_leaf,0) #the ind of X_test that have to be in this leaf\n",
    "        y_test_leaf=y_test[ind]        \n",
    "        X_test_leaf=X_test[:,ind]\n",
    "        \n",
    "        h_y=entropy(y)\n",
    "        h_cross=crossentropy(y,y_test_leaf)\n",
    "        p_x=leaf.data[0].shape[1]/nt\n",
    "        p_x_test=X_test_leaf.shape[1]/nt\n",
    "    \n",
    "        ent+=h_y*p_x \n",
    "        cross_ent+=h_cross*p_x_test\n",
    "        \n",
    "    entropy_vec.append(ent)\n",
    "    cross_entropy_vec.append(cross_ent)"
   ]
  },
  {
   "cell_type": "markdown",
   "metadata": {},
   "source": [
    "We can see that cross entropy quickly became $+\\infty$ because, we get leaf where all objects have the same class $P(Y_{train}=1|L_k)=0$ and therefore $H(Y|L_{k})=0$, where as test object have different $P(Y_{test}=1|L_k)\\neq0$ and $P(Y_{test}=0|L_k)\\neq0$"
   ]
  },
  {
   "cell_type": "code",
   "execution_count": 111,
   "metadata": {
    "collapsed": false
   },
   "outputs": [
    {
     "data": {
      "text/plain": [
       "[<matplotlib.lines.Line2D at 0x2178ee48>]"
      ]
     },
     "execution_count": 111,
     "metadata": {},
     "output_type": "execute_result"
    },
    {
     "data": {
      "image/png": "[encoded data removed]",
      "text/plain": [
       "<matplotlib.figure.Figure at 0x2178e208>"
      ]
     },
     "metadata": {},
     "output_type": "display_data"
    }
   ],
   "source": [
    "plt.plot(cross_entropy_vec)\n",
    "plt.plot(entropy_vec)"
   ]
  },
  {
   "cell_type": "code",
   "execution_count": 112,
   "metadata": {
    "collapsed": false
   },
   "outputs": [
    {
     "data": {
      "text/plain": [
       "[<matplotlib.lines.Line2D at 0x21af9940>]"
      ]
     },
     "execution_count": 112,
     "metadata": {},
     "output_type": "execute_result"
    },
    {
     "data": {
      "image/png": "[encoded data removed]",
      "text/plain": [
       "<matplotlib.figure.Figure at 0x21886710>"
      ]
     },
     "metadata": {},
     "output_type": "display_data"
    }
   ],
   "source": [
    "plt.plot(cross_entropy_vec)"
   ]
  },
  {
   "cell_type": "code",
   "execution_count": 113,
   "metadata": {
    "collapsed": false
   },
   "outputs": [
    {
     "data": {
      "text/plain": [
       "[<matplotlib.lines.Line2D at 0x21d27c88>]"
      ]
     },
     "execution_count": 113,
     "metadata": {},
     "output_type": "execute_result"
    },
    {
     "data": {
      "image/png": "[encoded data removed]",
      "text/plain": [
       "<matplotlib.figure.Figure at 0x21a7e400>"
      ]
     },
     "metadata": {},
     "output_type": "display_data"
    }
   ],
   "source": [
    "plt.plot(np.abs(weights))"
   ]
  },
  {
   "cell_type": "markdown",
   "metadata": {},
   "source": [
    "We can see and in avarage our weights are first bigger and than decreasing"
   ]
  },
  {
   "cell_type": "code",
   "execution_count": 114,
   "metadata": {
    "collapsed": false
   },
   "outputs": [
    {
     "data": {
      "text/plain": [
       "[<matplotlib.lines.Line2D at 0x21f07828>]"
      ]
     },
     "execution_count": 114,
     "metadata": {},
     "output_type": "execute_result"
    },
    {
     "data": {
      "image/png": "[encoded data removed]",
      "text/plain": [
       "<matplotlib.figure.Figure at 0x21c5e7b8>"
      ]
     },
     "metadata": {},
     "output_type": "display_data"
    }
   ],
   "source": [
    "# plt.plot(np.abs(weights))\n",
    "N_sp=len(weights)\n",
    "weights_av=[np.sum(np.abs(weights)[i:i+20])/20 for i in range(N_sp-20)] \n",
    "plt.plot(weights_av)"
   ]
  },
  {
   "cell_type": "code",
   "execution_count": null,
   "metadata": {
    "collapsed": true
   },
   "outputs": [],
   "source": []
  }
 ],
 "metadata": {
  "kernelspec": {
   "display_name": "Python 2",
   "language": "python",
   "name": "python2"
  },
  "language_info": {
   "codemirror_mode": {
    "name": "ipython",
    "version": 2
   },
   "file_extension": ".py",
   "mimetype": "text/x-python",
   "name": "python",
   "nbconvert_exporter": "python",
   "pygments_lexer": "ipython2",
   "version": "2.7.11"
  }
 },
 "nbformat": 4,
 "nbformat_minor": 0
}
