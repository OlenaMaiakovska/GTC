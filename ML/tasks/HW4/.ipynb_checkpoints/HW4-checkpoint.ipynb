{
 "cells": [
  {
   "cell_type": "markdown",
   "metadata": {},
   "source": [
    "1. Write GD by hand \n",
    "2. Use optimizer\n",
    "3. Use tf"
   ]
  },
  {
   "cell_type": "code",
   "execution_count": null,
   "metadata": {
    "collapsed": false
   },
   "outputs": [],
   "source": [
    "from __future__ import division\n",
    "from model import Model\n",
    "import numpy as np\n",
    "from IPython.core.debugger import Tracer; debug_here = Tracer()\n",
    "import itertools\n",
    "from scipy.optimize import minimize\n",
    "from numpy.random import normal\n",
    "\n",
    "def sigmoid(x):\n",
    "    return 1/(1+np.exp(-x))   #X [n x f]; w [1 x f]; y [n x 1]\n",
    "def loss(X,y,w):\n",
    "    return -(y*np.log(sigmoid(w.dot(X.T)))+(1-y)*np.log(sigmoid(w.dot(X.T)))).sum() #[1]\n",
    "def gradient(X,y,w):\n",
    "    return (sigmoid(w.dot(X.T))-y).dot(X) #[1xf]\n",
    "\n",
    "    \n",
    "\n",
    "class LogisticRegressionModel(Model):\n",
    "    def load_data(self):\n",
    "        train_data=np.genfromtxt('./data/train.csv', delimiter=',')\n",
    "        self.train_data=np.c_[np.ones(train_data.shape[0]),train_data]\n",
    "        self.train_labels=np.genfromtxt('./data/train_labels.txt', delimiter=',')\n",
    "        test_data=np.genfromtxt('./data/test.csv', delimiter=',')\n",
    "        self.test_data=np.c_[np.ones(test_data.shape[0]),test_data]\n",
    "        self.test_labels=np.genfromtxt('./data/test_labels.txt', delimiter=',')\n",
    "        \n",
    "    def fit(self,X,y):\n",
    "        try:\n",
    "            w=self.w\n",
    "        except AttributeError:\n",
    "            w=normal(loc=0.0, scale=0.1, size=(1,X.shape[1]))\n",
    "        itr=500\n",
    "        lr=10**(-3)\n",
    "        for i in range(itr):\n",
    "            w=w-lr*gradient(X,y,w)\n",
    "            if i%50==0:\n",
    "#                 debug_here()\n",
    "                print(loss(X,y,w))\n",
    "        self.w=w\n",
    "        \n",
    "    def predict(self,x):\n",
    "        w=self.w\n",
    "        if sigmoid(x.dot(w.T))>0.5:\n",
    "            return 1\n",
    "        return 0\n",
    "    \n",
    "    def accuracy(self,X,y):       \n",
    "        return (np.apply_along_axis(lambda x: self.predict(x),axis=1,arr=X)==y).sum()/y.shape[0]\n"
   ]
  },
  {
   "cell_type": "code",
   "execution_count": 58,
   "metadata": {
    "collapsed": true
   },
   "outputs": [],
   "source": [
    "\n",
    "clf=LogisticRegressionModel()\n",
    "clf.load_data()\n"
   ]
  },
  {
   "cell_type": "code",
   "execution_count": 59,
   "metadata": {
    "collapsed": true
   },
   "outputs": [],
   "source": [
    "X=clf.train_data\n",
    "y=clf.train_labels"
   ]
  },
  {
   "cell_type": "code",
   "execution_count": null,
   "metadata": {
    "collapsed": false
   },
   "outputs": [],
   "source": [
    "clf2=LogisticRegressionModel()\n",
    "clf2.fit(X,y)"
   ]
  },
  {
   "cell_type": "code",
   "execution_count": 64,
   "metadata": {
    "collapsed": false
   },
   "outputs": [
    {
     "data": {
      "text/plain": [
       "0.36447978793903246"
      ]
     },
     "execution_count": 64,
     "metadata": {},
     "output_type": "execute_result"
    }
   ],
   "source": [
    "clf2.accuracy(X,y)"
   ]
  },
  {
   "cell_type": "markdown",
   "metadata": {},
   "source": [
    "### HW4. Author Andrii Zadaianchuk"
   ]
  },
  {
   "cell_type": "code",
   "execution_count": 30,
   "metadata": {
    "collapsed": false
   },
   "outputs": [],
   "source": [
    "import numpy as np\n",
    "from __future__ import division\n",
    "from IPython.core.debugger import Tracer; \n",
    "import itertools\n",
    "from naive import NaiveBayesModel"
   ]
  },
  {
   "cell_type": "code",
   "execution_count": 27,
   "metadata": {
    "collapsed": false
   },
   "outputs": [
    {
     "name": "stdout",
     "output_type": "stream",
     "text": [
      "(0.96951623591782643, 0.96951623591782643)\n"
     ]
    }
   ],
   "source": [
    "clf=NaiveBayesModel()\n",
    "clf.load_data()\n",
    "clf.fit(clf.train_data,clf.train_labels)"
   ]
  },
  {
   "cell_type": "code",
   "execution_count": 33,
   "metadata": {
    "collapsed": false
   },
   "outputs": [
    {
     "data": {
      "text/plain": [
       "(4527,)"
      ]
     },
     "execution_count": 33,
     "metadata": {},
     "output_type": "execute_result"
    }
   ],
   "source": [
    "clf.train_data.shape\n"
   ]
  },
  {
   "cell_type": "code",
   "execution_count": 28,
   "metadata": {
    "collapsed": false
   },
   "outputs": [
    {
     "name": "stdout",
     "output_type": "stream",
     "text": [
      "(0.96951623591782643, 0.9424141749723145)\n"
     ]
    }
   ],
   "source": [
    "print (clf.accuracy(clf.train_data,clf.train_labels), clf.accuracy(clf.test_data,clf.test_labels))\n"
   ]
  },
  {
   "cell_type": "code",
   "execution_count": null,
   "metadata": {
    "collapsed": true
   },
   "outputs": [],
   "source": []
  }
 ],
 "metadata": {
  "kernelspec": {
   "display_name": "Python [Root]",
   "language": "python",
   "name": "Python [Root]"
  },
  "language_info": {
   "codemirror_mode": {
    "name": "ipython",
    "version": 2
   },
   "file_extension": ".py",
   "mimetype": "text/x-python",
   "name": "python",
   "nbconvert_exporter": "python",
   "pygments_lexer": "ipython2",
   "version": "2.7.12"
  }
 },
 "nbformat": 4,
 "nbformat_minor": 0
}
